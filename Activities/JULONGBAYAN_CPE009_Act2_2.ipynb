{
 "cells": [
  {
   "cell_type": "markdown",
   "metadata": {},
   "source": [
    "# JULONGBAYAN_Laboratory Activity 2 \n",
    "## SUPPLEMENTARY ACTIVITY"
   ]
  },
  {
   "cell_type": "markdown",
   "metadata": {},
   "source": [
    "####  1. Write the Python equivalent code of the following C code:"
   ]
  },
  {
   "cell_type": "raw",
   "metadata": {},
   "source": [
    "int main(){\n",
    "float base = 0, height = 0, area = 0;\n",
    "printf(“Enter the base of the triangle: “);\n",
    "scanf(“%f”, &base);\n",
    "printf(“Enter the height of the triangle: “);\n",
    "scanf(“%f”, &height);\n",
    "area = (1/2)*base*height;\n",
    "print(“The area of the triangle is %f”, area);\n",
    "}"
   ]
  },
  {
   "cell_type": "code",
   "execution_count": 1,
   "metadata": {},
   "outputs": [
    {
     "name": "stdout",
     "output_type": "stream",
     "text": [
      "Enter the base of the triangle: 5\n",
      "Enter the height of the triangle: 8\n",
      "The area of the triangle is 20.0\n"
     ]
    }
   ],
   "source": [
    "base = float(input('Enter the base of the triangle: '))\n",
    "height = float(input('Enter the height of the triangle: '))\n",
    "area = (1/2)*base*height\n",
    "\n",
    "print('The area of the triangle is', area)"
   ]
  },
  {
   "cell_type": "markdown",
   "metadata": {},
   "source": [
    "#### 2. Write a program that would convert Celsius to Fahrenheit given the formula: F = (C × 9/5) + 32"
   ]
  },
  {
   "cell_type": "markdown",
   "metadata": {},
   "source": [
    "#####  Example Conversion:    0C = 32F ; -20C = -4F"
   ]
  },
  {
   "cell_type": "code",
   "execution_count": 2,
   "metadata": {},
   "outputs": [
    {
     "name": "stdout",
     "output_type": "stream",
     "text": [
      "Enter temperature in C: -20\n",
      "-4.0\n"
     ]
    }
   ],
   "source": [
    "celcius = float(input('Enter temperature in C: '))\n",
    "fahrenheit = (celcius*(9/5))+32\n",
    "\n",
    "print(fahrenheit)"
   ]
  },
  {
   "cell_type": "markdown",
   "metadata": {},
   "source": [
    "#### 3. Write a program that can determine the distance between two points given the coordinates using the formula:"
   ]
  },
  {
   "attachments": {
    "image.png": {
     "image/png": "[encoded data removed]"
    }
   },
   "cell_type": "markdown",
   "metadata": {},
   "source": [
    "![image.png](attachment:image.png)"
   ]
  },
  {
   "cell_type": "markdown",
   "metadata": {},
   "source": [
    "    Example: x2, y2 = -3, 3 and x1, y1 = 2, 2        d = 5.099019514"
   ]
  },
  {
   "cell_type": "code",
   "execution_count": 4,
   "metadata": {},
   "outputs": [
    {
     "name": "stdout",
     "output_type": "stream",
     "text": [
      "x1: 2\n",
      "x2: -3\n",
      "y1: 2\n",
      "y2: 3\n",
      "5.0990195135927845\n"
     ]
    }
   ],
   "source": [
    "x1 = float(input('x1: '))\n",
    "x2 = float(input('x2: '))\n",
    "y1 = float(input('y1: '))\n",
    "y2 = float(input('y2: '))\n",
    "import math\n",
    "d = math.sqrt(pow(x2-x1, 2)+pow(y2-y1, 2))\n",
    "print(d)"
   ]
  },
  {
   "cell_type": "code",
   "execution_count": null,
   "metadata": {},
   "outputs": [],
   "source": []
  }
 ],
 "metadata": {
  "kernelspec": {
   "display_name": "Python 3",
   "language": "python",
   "name": "python3"
  },
  "language_info": {
   "codemirror_mode": {
    "name": "ipython",
    "version": 3
   },
   "file_extension": ".py",
   "mimetype": "text/x-python",
   "name": "python",
   "nbconvert_exporter": "python",
   "pygments_lexer": "ipython3",
   "version": "3.7.3"
  }
 },
 "nbformat": 4,
 "nbformat_minor": 2
}
